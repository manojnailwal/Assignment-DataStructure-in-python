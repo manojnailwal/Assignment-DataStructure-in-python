{
 "cells": [
  {
   "cell_type": "code",
   "execution_count": 1,
   "id": "a0f8d10a-8e3f-4a37-810f-1a3f221797ce",
   "metadata": {},
   "outputs": [],
   "source": [
    "# Ques 1 -: Write a Python program to reverse a string"
   ]
  },
  {
   "cell_type": "code",
   "execution_count": 2,
   "id": "374981a1-1ab9-4ae0-b597-431709cafb0a",
   "metadata": {},
   "outputs": [
    {
     "name": "stdin",
     "output_type": "stream",
     "text": [
      "Enter a string to reverse:  Manoj nailwal\n"
     ]
    },
    {
     "name": "stdout",
     "output_type": "stream",
     "text": [
      "Reversed string: lawlian jonaM\n"
     ]
    }
   ],
   "source": [
    "# Ans -:\n",
    "\n",
    "# code to reverse a string\n",
    "input_string = input(\"Enter a string to reverse: \")\n",
    "\n",
    "reversed_string  = input_string[::-1]\n",
    "\n",
    "# Example usage\n",
    "print(\"Reversed string:\", reversed_string)\n"
   ]
  },
  {
   "cell_type": "code",
   "execution_count": 3,
   "id": "1c6b33ba-c9b2-4d09-a4dc-c3ca7178820c",
   "metadata": {},
   "outputs": [],
   "source": [
    "# Ques 2 -: Write a Python program to count the number of vowels in a string"
   ]
  },
  {
   "cell_type": "code",
   "execution_count": 4,
   "id": "7c20a453-bd06-40a6-a381-741c32ebc96d",
   "metadata": {},
   "outputs": [
    {
     "name": "stdin",
     "output_type": "stream",
     "text": [
      "Enter a string:  manojnailwal\n"
     ]
    },
    {
     "name": "stdout",
     "output_type": "stream",
     "text": [
      "Number of vowels: 5\n"
     ]
    }
   ],
   "source": [
    "# Ans -:\n",
    "\n",
    "# Input string from the user\n",
    "input_string = input(\"Enter a string: \")\n",
    "\n",
    "# Initialize a variable to keep count of vowels\n",
    "count = 0\n",
    "\n",
    "# List of vowels (both lowercase and uppercase)\n",
    "vowels = \"aeiouAEIOU\"\n",
    "\n",
    "# Loop through each character in the string\n",
    "for char in input_string:\n",
    "    if char in vowels:  # Check if the character is a vowel\n",
    "        count += 1\n",
    "\n",
    "# Print the number of vowels\n",
    "print(\"Number of vowels:\", count)\n"
   ]
  },
  {
   "cell_type": "code",
   "execution_count": 5,
   "id": "6aa6ea16-1b6d-4fb2-b322-073388ec0573",
   "metadata": {},
   "outputs": [],
   "source": [
    "# Ques 3 -: Write a Python program to check if a given string is a palindrome or not."
   ]
  },
  {
   "cell_type": "code",
   "execution_count": 6,
   "id": "aaf88f82-037c-4f6e-be8f-d4a1e0ef9777",
   "metadata": {},
   "outputs": [
    {
     "name": "stdin",
     "output_type": "stream",
     "text": [
      "Enter a string:  1234321\n"
     ]
    },
    {
     "name": "stdout",
     "output_type": "stream",
     "text": [
      "The given string is a palindrome.\n"
     ]
    }
   ],
   "source": [
    "# Ans -:\n",
    "\n",
    "# Input string from the user\n",
    "input_string = input(\"Enter a string: \")\n",
    "\n",
    "# Convert the string to lowercase to ignore case sensitivity\n",
    "input_string = input_string.lower()\n",
    "\n",
    "# Check if the string is the same when reversed\n",
    "if input_string == input_string[::-1]:\n",
    "    print(\"The given string is a palindrome.\")\n",
    "else:\n",
    "    print(\"The given string is not a palindrome.\")\n"
   ]
  },
  {
   "cell_type": "code",
   "execution_count": 7,
   "id": "73e4fede-eaf8-4961-bfa3-e429ec2613ad",
   "metadata": {},
   "outputs": [],
   "source": [
    "# Ques 4 -: Write a Python program to check if two given strings are anagrams of each other"
   ]
  },
  {
   "cell_type": "code",
   "execution_count": 8,
   "id": "3afa1b2a-27fa-4dd4-8fb1-529a3b6526a8",
   "metadata": {},
   "outputs": [
    {
     "name": "stdin",
     "output_type": "stream",
     "text": [
      "Enter the first string:  care\n",
      "Enter the second string:  race\n"
     ]
    },
    {
     "name": "stdout",
     "output_type": "stream",
     "text": [
      "The two strings are anagrams.\n"
     ]
    }
   ],
   "source": [
    "# Ans -: \n",
    "# Input two strings from the user\n",
    "string1 = input(\"Enter the first string: \")\n",
    "string2 = input(\"Enter the second string: \")\n",
    "\n",
    "# Convert both strings to lowercase to ignore case sensitivity\n",
    "string1 = string1.lower()\n",
    "string2 = string2.lower()\n",
    "\n",
    "# Sort both strings and compare\n",
    "if sorted(string1) == sorted(string2):\n",
    "    print(\"The two strings are anagrams.\")\n",
    "else:\n",
    "    print(\"The two strings are not anagrams.\")\n"
   ]
  },
  {
   "cell_type": "code",
   "execution_count": 9,
   "id": "77ded955-717d-4bab-94a1-913a0a8e2268",
   "metadata": {},
   "outputs": [],
   "source": [
    "# Ques 5 -: Write a Python program to find all occurrences of a given substring within another string"
   ]
  },
  {
   "cell_type": "code",
   "execution_count": 10,
   "id": "73657753-c6ed-410e-9984-3d4e077330e5",
   "metadata": {},
   "outputs": [
    {
     "name": "stdin",
     "output_type": "stream",
     "text": [
      "Enter the main string:  manoj\n",
      "Enter the substring to search for:  manoj \n"
     ]
    },
    {
     "name": "stdout",
     "output_type": "stream",
     "text": [
      "The substring 'manoj ' is not found in the main string.\n"
     ]
    }
   ],
   "source": [
    "# Ans -:\n",
    "\n",
    "# Input main string and substring from the user\n",
    "main_string = input(\"Enter the main string: \")\n",
    "substring = input(\"Enter the substring to search for: \")\n",
    "\n",
    "# Initialize a list to store positions of occurrences\n",
    "positions = []\n",
    "\n",
    "# Use the find method to get the index of the first occurrence\n",
    "index = main_string.find(substring)\n",
    "l = main_string.count(\"a\")\n",
    "# Loop to find all occurrences\n",
    "while index != -1:\n",
    "    positions.append(index)\n",
    "    # Find the next occurrence\n",
    "    index = main_string.find(substring, index + 1)\n",
    "\n",
    "# Check if any occurrences were found\n",
    "if positions:\n",
    "    print(f\"The substring '{substring}' is found at positions: {positions}, and no of '{substring}' is {l}\")\n",
    "else:\n",
    "    print(f\"The substring '{substring}' is not found in the main string.\")\n"
   ]
  },
  {
   "cell_type": "code",
   "execution_count": 11,
   "id": "5e02c797-d230-4a1f-8200-6bd911be411f",
   "metadata": {},
   "outputs": [],
   "source": [
    "# Ques 6 -: Write a Python program to perform string compression using the count of repeated characters."
   ]
  },
  {
   "cell_type": "code",
   "execution_count": 12,
   "id": "f8bf83bc-2ddb-49af-844b-c2eb9afe7e74",
   "metadata": {},
   "outputs": [
    {
     "name": "stdin",
     "output_type": "stream",
     "text": [
      "Enter a string to compress:  manoj nailwal\n"
     ]
    },
    {
     "name": "stdout",
     "output_type": "stream",
     "text": [
      "Compressed string: m1a1n1o1j1 1n1a1i1l1w1a1l1\n"
     ]
    }
   ],
   "source": [
    "# Ans -:\n",
    "\n",
    "# Input string from the user\n",
    "input_string = input(\"Enter a string to compress: \")\n",
    "\n",
    "# Initialize variables\n",
    "compressed_string = \"\"\n",
    "count = 1\n",
    "\n",
    "# Loop through the string\n",
    "for i in range(len(input_string)):\n",
    "    # Check if the next character is the same\n",
    "    if i < len(input_string) - 1 and input_string[i] == input_string[i + 1]:\n",
    "        count += 1  # Increment the count\n",
    "    else:\n",
    "        # Append the character and its count to the compressed string\n",
    "        compressed_string += input_string[i] + str(count)\n",
    "        count = 1  # Reset count for the next character\n",
    "\n",
    "# Print the compressed string\n",
    "print(\"Compressed string:\", compressed_string)\n"
   ]
  },
  {
   "cell_type": "code",
   "execution_count": 13,
   "id": "0381e75a-3d3f-4ff6-afde-7b5b8fe42034",
   "metadata": {},
   "outputs": [],
   "source": [
    "# Ques 7 -: Write a Python program to determine if a string has all unique characters."
   ]
  },
  {
   "cell_type": "code",
   "execution_count": 14,
   "id": "5e8931a3-eddb-40e6-9d3c-fc38d3530763",
   "metadata": {},
   "outputs": [
    {
     "name": "stdin",
     "output_type": "stream",
     "text": [
      "Enter a string to check for unique characters:  happy diwali\n"
     ]
    },
    {
     "name": "stdout",
     "output_type": "stream",
     "text": [
      "The string does not have all unique characters.\n"
     ]
    }
   ],
   "source": [
    "# Ans -:\n",
    "\n",
    "# Input string from the user\n",
    "input_string = input(\"Enter a string to check for unique characters: \")\n",
    "\n",
    "# Initialize an empty set to store unique characters\n",
    "unique_characters = set()\n",
    "\n",
    "# Loop through each character in the string\n",
    "for char in input_string:\n",
    "    # Check if the character is already in the set\n",
    "    if char in unique_characters:\n",
    "        print(\"The string does not have all unique characters.\")\n",
    "        break\n",
    "    # Add the character to the set if it's not already present\n",
    "    unique_characters.add(char)\n",
    "else:\n",
    "    print(\"The string has all unique characters.\")\n",
    "\n"
   ]
  },
  {
   "cell_type": "code",
   "execution_count": 15,
   "id": "3cc7cf2f-7203-4b8a-b506-e69fafbc52f4",
   "metadata": {},
   "outputs": [],
   "source": [
    "# Ques 8 -: Write a Python program to convert a given string to uppercase or lowercase."
   ]
  },
  {
   "cell_type": "code",
   "execution_count": 16,
   "id": "dab15398-42c3-4ec0-bc23-ce41611724d2",
   "metadata": {},
   "outputs": [
    {
     "name": "stdin",
     "output_type": "stream",
     "text": [
      "Enter a string:  manoj nailwal\n",
      "Type 'U' to convert to uppercase or 'L' to convert to lowercase:  u\n"
     ]
    },
    {
     "name": "stdout",
     "output_type": "stream",
     "text": [
      "Converted string to uppercase: MANOJ NAILWAL\n"
     ]
    }
   ],
   "source": [
    "# Ans -:\n",
    "\n",
    "# Input string from the user\n",
    "input_string = input(\"Enter a string: \")\n",
    "\n",
    "# Ask the user for the desired conversion\n",
    "conversion_choice = input(\"Type 'U' to convert to uppercase or 'L' to convert to lowercase: \")\n",
    "\n",
    "# Convert the string based on the user's choice\n",
    "if conversion_choice.upper() == 'U':\n",
    "    converted_string = input_string.upper()\n",
    "    print(\"Converted string to uppercase:\", converted_string)\n",
    "elif conversion_choice.upper() == 'L':\n",
    "    converted_string = input_string.lower()\n",
    "    print(\"Converted string to lowercase:\", converted_string)\n",
    "else:\n",
    "    print(\"Invalid choice! Please type 'U' or 'L'.\")\n"
   ]
  },
  {
   "cell_type": "code",
   "execution_count": 17,
   "id": "27a9e647-4b45-444e-ad1b-5ed751910921",
   "metadata": {},
   "outputs": [],
   "source": [
    "# Ques 9 -: Write a Python program to count the number of words in a string."
   ]
  },
  {
   "cell_type": "code",
   "execution_count": 18,
   "id": "7834e52e-0428-475e-b3a3-b9acdaa191a4",
   "metadata": {},
   "outputs": [
    {
     "name": "stdin",
     "output_type": "stream",
     "text": [
      "Enter a string:  my name is manoj\n"
     ]
    },
    {
     "name": "stdout",
     "output_type": "stream",
     "text": [
      "Number of words in the string: 4\n"
     ]
    }
   ],
   "source": [
    "# Ans - :\n",
    "\n",
    "# Input string from the user\n",
    "input_string = input(\"Enter a string: \")\n",
    "\n",
    "# Split the string into words\n",
    "words = input_string.split()\n",
    "\n",
    "# Count the number of words\n",
    "word_count = len(words)\n",
    "\n",
    "# Print the number of words\n",
    "print(\"Number of words in the string:\", word_count)\n"
   ]
  },
  {
   "cell_type": "code",
   "execution_count": 19,
   "id": "c0c32443-f703-4f25-b50b-8b0b06fd0afb",
   "metadata": {},
   "outputs": [],
   "source": [
    "# Ques 10 -: Write a Python program to concatenate two strings without using the + operator."
   ]
  },
  {
   "cell_type": "code",
   "execution_count": 20,
   "id": "fab22c3b-3e4e-4b1e-8605-b6d3dc52567b",
   "metadata": {},
   "outputs": [
    {
     "name": "stdin",
     "output_type": "stream",
     "text": [
      "Enter the first string:  manoj\n",
      "Enter the second string:  nailwal\n"
     ]
    },
    {
     "name": "stdout",
     "output_type": "stream",
     "text": [
      "Concatenated string: manojnailwal\n"
     ]
    }
   ],
   "source": [
    "# Ans-:\n",
    "\n",
    "# Input the first string from the user\n",
    "string1 = input(\"Enter the first string: \")\n",
    "\n",
    "# Input the second string from the user\n",
    "string2 = input(\"Enter the second string: \")\n",
    "\n",
    "# Concatenate the strings using the join() method\n",
    "concatenated_string = ''.join([string1, string2])\n",
    "\n",
    "# Print the concatenated string\n",
    "print(\"Concatenated string:\", concatenated_string)\n"
   ]
  },
  {
   "cell_type": "code",
   "execution_count": 21,
   "id": "484fa1bc-5591-41d9-9c62-c7de00ad0181",
   "metadata": {},
   "outputs": [],
   "source": [
    "# Ques 11 -: Write code to remove all occurrences of a specific element from a list."
   ]
  },
  {
   "cell_type": "code",
   "execution_count": 22,
   "id": "32a063bb-8b97-456c-b71a-9b93485e3a39",
   "metadata": {},
   "outputs": [
    {
     "name": "stdout",
     "output_type": "stream",
     "text": [
      "[1, 3, 4, 5]\n"
     ]
    }
   ],
   "source": [
    "# Ans-:\n",
    "\n",
    "my_list = [1, 2, 3, 4, 2, 2, 5]\n",
    "element_to_remove = 2\n",
    "\n",
    "# Using list comprehension to filter out all occurrences of the specified element\n",
    "my_list = [x for x in my_list if x != element_to_remove]\n",
    "\n",
    "print(my_list)\n"
   ]
  },
  {
   "cell_type": "code",
   "execution_count": 23,
   "id": "49173f51-0b8d-4eca-b489-55c5652f569b",
   "metadata": {},
   "outputs": [],
   "source": [
    "# Ques 12 -: Implement code to find the second largest number in a given list of integers."
   ]
  },
  {
   "cell_type": "code",
   "execution_count": 24,
   "id": "da9abb10-ce28-403e-83ab-c138dbdd30d4",
   "metadata": {},
   "outputs": [
    {
     "name": "stdout",
     "output_type": "stream",
     "text": [
      "The second largest number is: 12\n"
     ]
    }
   ],
   "source": [
    "# Ans-:\n",
    "\n",
    "my_list = [10, 5, 20, 8, 12]\n",
    "\n",
    "# Remove duplicates and sort the list in descending order\n",
    "unique_list = list(set(my_list))  # Remove duplicates by converting to a set\n",
    "unique_list.sort(reverse=True)    # Sort the list in descending order\n",
    "\n",
    "# The second largest number will be at index 1\n",
    "if len(unique_list) >= 2:\n",
    "    second_largest = unique_list[1]\n",
    "    print(\"The second largest number is:\", second_largest)\n",
    "else:\n",
    "    print(\"The list does not have enough unique elements.\")\n"
   ]
  },
  {
   "cell_type": "code",
   "execution_count": 25,
   "id": "892efab2-a09c-48f6-83ef-c9cd34e7f1ba",
   "metadata": {},
   "outputs": [],
   "source": [
    "# Ques 13 -: Create code to count the occurrences of each element in a list and return a dictionary with elements as keys and their counts as values."
   ]
  },
  {
   "cell_type": "code",
   "execution_count": 26,
   "id": "95b9edc7-1e86-488c-8e6b-043d8d2081b5",
   "metadata": {},
   "outputs": [
    {
     "name": "stdout",
     "output_type": "stream",
     "text": [
      "{1: 1, 2: 2, 3: 1, 4: 3, 5: 1}\n"
     ]
    }
   ],
   "source": [
    "# Ans-:\n",
    "\n",
    "my_list = [1, 2, 2, 3, 4, 4, 4, 5]\n",
    "\n",
    "# Create an empty dictionary to store the counts\n",
    "element_count = {}\n",
    "\n",
    "# Loop through the list and count occurrences\n",
    "for element in my_list:\n",
    "    if element in element_count:\n",
    "        element_count[element] += 1\n",
    "    else:\n",
    "        element_count[element] = 1\n",
    "\n",
    "print(element_count)\n"
   ]
  },
  {
   "cell_type": "code",
   "execution_count": 27,
   "id": "e82a738a-c7e2-487e-9fd3-a8d5f625895c",
   "metadata": {},
   "outputs": [],
   "source": [
    "# Ques 14 -:Write code to reverse a list in-place without using any built-in reverse functions."
   ]
  },
  {
   "cell_type": "code",
   "execution_count": 28,
   "id": "ea7cfa4d-1d75-4ee2-889a-9821ce99b2fe",
   "metadata": {},
   "outputs": [
    {
     "name": "stdout",
     "output_type": "stream",
     "text": [
      "[5, 4, 3, 2, 1]\n"
     ]
    }
   ],
   "source": [
    "# Ans -:\n",
    "\n",
    "my_list = [1, 2, 3, 4, 5]\n",
    "\n",
    "# Initialize two pointers\n",
    "left = 0\n",
    "right = len(my_list) - 1\n",
    "\n",
    "# Swap elements from the start and end moving towards the center\n",
    "while left < right:\n",
    "    # Swap the elements\n",
    "    my_list[left], my_list[right] = my_list[right], my_list[left]\n",
    "    # Move the pointers towards the center\n",
    "    left += 1\n",
    "    right -= 1\n",
    "\n",
    "print(my_list)\n"
   ]
  },
  {
   "cell_type": "code",
   "execution_count": 29,
   "id": "ebc737c0-d8b5-401d-84f2-0f3ad48436f1",
   "metadata": {},
   "outputs": [],
   "source": [
    "# Ques 15 -: Write a code to find and remove duplicates from a list while preserving the original order of elements. Provide an example of its usage."
   ]
  },
  {
   "cell_type": "code",
   "execution_count": 30,
   "id": "88a72ba1-c31c-4120-ab1d-8d011fc51708",
   "metadata": {},
   "outputs": [
    {
     "name": "stdout",
     "output_type": "stream",
     "text": [
      "[1, 2, 3, 4, 5]\n"
     ]
    }
   ],
   "source": [
    "# Ans -: \n",
    "\n",
    "# Original list\n",
    "original_list = [1, 2, 3, 2, 4, 1, 5]\n",
    "\n",
    "# Initialize a set to track seen elements and a list for the result\n",
    "seen = set()\n",
    "result = []\n",
    "\n",
    "# Iterate through each item in the original list\n",
    "for item in original_list:\n",
    "    if item not in seen:  # Check if the item has not been seen\n",
    "        seen.add(item)    # Add the item to the set\n",
    "        result.append(item) # Add the item to the result list\n",
    "\n",
    "# Print the cleaned list with duplicates removed\n",
    "print(result)  # Output: [1, 2, 3, 4, 5]\n"
   ]
  },
  {
   "cell_type": "code",
   "execution_count": 31,
   "id": "973e706e-d4e3-4b7c-a572-c436ebf66a78",
   "metadata": {},
   "outputs": [],
   "source": [
    "# Ques 16 -: Create a code to check if a given list is sorted (either in ascending or descending order) or not."
   ]
  },
  {
   "cell_type": "code",
   "execution_count": 32,
   "id": "a72d20ec-bdab-40be-bbe6-45c804428191",
   "metadata": {},
   "outputs": [
    {
     "name": "stdout",
     "output_type": "stream",
     "text": [
      "The list is sorted in ascending order.\n"
     ]
    }
   ],
   "source": [
    "# Ans -:\n",
    "\n",
    "# Original list\n",
    "original_list = [1, 2, 3, 4, 5]  # Change this to test other lists\n",
    "\n",
    "# Check if the list is sorted in ascending order\n",
    "is_sorted_ascending = all(original_list[i] <= original_list[i + 1] for i in range(len(original_list) - 1))\n",
    "\n",
    "# Check if the list is sorted in descending order\n",
    "is_sorted_descending = all(original_list[i] >= original_list[i + 1] for i in range(len(original_list) - 1))\n",
    "\n",
    "# Determine if the list is sorted\n",
    "if is_sorted_ascending:\n",
    "    print(\"The list is sorted in ascending order.\")\n",
    "elif is_sorted_descending:\n",
    "    print(\"The list is sorted in descending order.\")\n",
    "else:\n",
    "    print(\"The list is not sorted.\")\n"
   ]
  },
  {
   "cell_type": "code",
   "execution_count": 33,
   "id": "f93a5f97-641b-48eb-b533-42761b18c572",
   "metadata": {},
   "outputs": [],
   "source": [
    "# Ques 17 -: Write a code to merge two sorted lists into a single sorted list."
   ]
  },
  {
   "cell_type": "code",
   "execution_count": 34,
   "id": "06dda709-b95b-4012-8328-f3da66550246",
   "metadata": {},
   "outputs": [
    {
     "name": "stdout",
     "output_type": "stream",
     "text": [
      "[1, 2, 3, 4, 5, 6, 7, 8]\n"
     ]
    }
   ],
   "source": [
    "# Ans -: \n",
    "\n",
    "# Two sorted lists\n",
    "list1 = [1, 3, 5, 7]\n",
    "list2 = [2, 4, 6, 8]\n",
    "\n",
    "# Merged list\n",
    "merged_list = []\n",
    "i, j = 0, 0\n",
    "\n",
    "# Merge the two lists\n",
    "while i < len(list1) and j < len(list2):\n",
    "    if list1[i] < list2[j]:\n",
    "        merged_list.append(list1[i])\n",
    "        i += 1\n",
    "    else:\n",
    "        merged_list.append(list2[j])\n",
    "        j += 1\n",
    "\n",
    "# Add any remaining elements from list1\n",
    "while i < len(list1):\n",
    "    merged_list.append(list1[i])\n",
    "    i += 1\n",
    "\n",
    "# Add any remaining elements from list2\n",
    "while j < len(list2):\n",
    "    merged_list.append(list2[j])\n",
    "    j += 1\n",
    "\n",
    "# Print the merged sorted list\n",
    "print(merged_list)  # Output: [1, 2, 3, 4, 5, 6, 7, 8]\n"
   ]
  },
  {
   "cell_type": "code",
   "execution_count": 35,
   "id": "949d07e9-90e4-4302-a9e1-bcc0fb66980d",
   "metadata": {},
   "outputs": [],
   "source": [
    "# Ques 18 -: Implement a code to find the intersection of two given lists."
   ]
  },
  {
   "cell_type": "code",
   "execution_count": 36,
   "id": "abb43384-b070-4cb8-89c7-d83be2b71636",
   "metadata": {},
   "outputs": [
    {
     "name": "stdout",
     "output_type": "stream",
     "text": [
      "[4, 5]\n"
     ]
    }
   ],
   "source": [
    "# Ans -:\n",
    "\n",
    "# Two given lists\n",
    "list1 = [1, 2, 3, 4, 5]\n",
    "list2 = [4, 5, 6, 7, 8]\n",
    "\n",
    "# Finding the intersection\n",
    "intersection = [value for value in list1 if value in list2]\n",
    "\n",
    "# Print the intersection\n",
    "print(intersection)  # Output: [4, 5]\n"
   ]
  },
  {
   "cell_type": "code",
   "execution_count": 37,
   "id": "089e0e53-6f81-4e81-bc9e-aaa86f37bb80",
   "metadata": {},
   "outputs": [],
   "source": [
    "# Ques 19 -: Create a code to find the union of two lists without duplicates."
   ]
  },
  {
   "cell_type": "code",
   "execution_count": 38,
   "id": "d01d879e-fe7e-4df8-9f4b-32688f69369b",
   "metadata": {},
   "outputs": [
    {
     "name": "stdout",
     "output_type": "stream",
     "text": [
      "[1, 2, 3, 4, 5, 6, 7, 8]\n"
     ]
    }
   ],
   "source": [
    "# Ans -: \n",
    "\n",
    "# Two given lists\n",
    "list1 = [1, 2, 3, 4, 5]\n",
    "list2 = [4, 5, 6, 7, 8]\n",
    "\n",
    "# Finding the union without duplicates\n",
    "union = list(set(list1) | set(list2))\n",
    "\n",
    "# Print the union\n",
    "print(union)  # Output: [1, 2, 3, 4, 5, 6, 7, 8]\n"
   ]
  },
  {
   "cell_type": "code",
   "execution_count": 39,
   "id": "1c60fea0-f702-486c-81ba-edff9e0bbf92",
   "metadata": {},
   "outputs": [],
   "source": [
    "# Ques 20 -: Write a code to shuffle a given list randomly without using any built-in shuffle function."
   ]
  },
  {
   "cell_type": "code",
   "execution_count": 40,
   "id": "70a54c11-56ce-4308-953b-b6815889a6f7",
   "metadata": {},
   "outputs": [
    {
     "name": "stdout",
     "output_type": "stream",
     "text": [
      "[5, 4, 3, 2, 1]\n"
     ]
    }
   ],
   "source": [
    "# Ans -:\n",
    "\n",
    "import random\n",
    "\n",
    "# Given list\n",
    "original_list = [1, 2, 3, 4, 5]\n",
    "\n",
    "# Shuffle the list manually\n",
    "shuffled_list = original_list[:]  # Create a copy of the original list\n",
    "n = len(shuffled_list)\n",
    "\n",
    "for i in range(n - 1, 0, -1):\n",
    "    # Generate a random index\n",
    "    j = random.randint(0, i)\n",
    "    # Swap the current element with the element at the random index\n",
    "    shuffled_list[i], shuffled_list[j] = shuffled_list[j], shuffled_list[i]\n",
    "\n",
    "# Print the shuffled list\n",
    "print(shuffled_list)\n"
   ]
  },
  {
   "cell_type": "code",
   "execution_count": 41,
   "id": "09ce3160-535f-4e8d-920d-4fd1f83ed310",
   "metadata": {},
   "outputs": [],
   "source": [
    "# Ques 21 -: Write a code that takes two tuples as input and returns a new tuple containing elements that are common to both input tuples."
   ]
  },
  {
   "cell_type": "code",
   "execution_count": 42,
   "id": "73ec33c8-75b9-4580-b4c2-582f84861aaa",
   "metadata": {},
   "outputs": [
    {
     "name": "stdout",
     "output_type": "stream",
     "text": [
      "(4, 5)\n"
     ]
    }
   ],
   "source": [
    "# Ans -:\n",
    "\n",
    "# Given tuples\n",
    "tuple1 = (1, 2, 3, 4, 5)\n",
    "tuple2 = (4, 5, 6, 7, 8)\n",
    "\n",
    "# Finding common elements\n",
    "common_elements = tuple(element for element in tuple1 if element in tuple2)\n",
    "\n",
    "# Print the new tuple containing common elements\n",
    "print(common_elements)  # Output: (4, 5)\n"
   ]
  },
  {
   "cell_type": "code",
   "execution_count": 43,
   "id": "8cd77959-9aef-4a08-bb8c-d93740f725af",
   "metadata": {},
   "outputs": [],
   "source": [
    "# Ques 22 -: Create a code that prompts the user to enter two sets of integers separated by commas. Then, print the intersection of these two sets."
   ]
  },
  {
   "cell_type": "code",
   "execution_count": 44,
   "id": "34afeee2-53c7-491b-aac8-aa56c36a922a",
   "metadata": {},
   "outputs": [
    {
     "name": "stdin",
     "output_type": "stream",
     "text": [
      "Enter the first set of integers (separated by commas):  1,2,3,4,5\n",
      "Enter the second set of integers (separated by commas):  6,7,8,9,0\n"
     ]
    },
    {
     "name": "stdout",
     "output_type": "stream",
     "text": [
      "The intersection of the two sets is: set()\n"
     ]
    }
   ],
   "source": [
    "# Ans -:\n",
    "\n",
    "# Prompt user to enter two sets of integers\n",
    "set1_input = input(\"Enter the first set of integers (separated by commas): \")\n",
    "set2_input = input(\"Enter the second set of integers (separated by commas): \")\n",
    "\n",
    "# Convert the input strings into sets of integers\n",
    "set1 = set(int(num) for num in set1_input.split(','))\n",
    "set2 = set(int(num) for num in set2_input.split(','))\n",
    "\n",
    "# Find the intersection of the two sets\n",
    "intersection = set1.intersection(set2)\n",
    "\n",
    "# Print the intersection\n",
    "print(\"The intersection of the two sets is:\", intersection)\n"
   ]
  },
  {
   "cell_type": "code",
   "execution_count": 45,
   "id": "6efb8c30-b4d0-4501-906b-c2c42f6ddd9e",
   "metadata": {},
   "outputs": [],
   "source": [
    "# Ques 23 -:  Write a code to concatenate two tuples. The function should take two tuples as input and return a new tuple containing elements from both input tuples."
   ]
  },
  {
   "cell_type": "code",
   "execution_count": 46,
   "id": "048a1b21-f751-48ed-b7e6-596c0fe0e0ee",
   "metadata": {},
   "outputs": [
    {
     "name": "stdout",
     "output_type": "stream",
     "text": [
      "(1, 2, 3, 4, 5, 6)\n"
     ]
    }
   ],
   "source": [
    "# Ans -:\n",
    "\n",
    "# Example input\n",
    "tuple1 = (1, 2, 3)\n",
    "tuple2 = (4, 5, 6)\n",
    "\n",
    "# Concatenating the tuples\n",
    "result = tuple1 + tuple2\n",
    "\n",
    "# Print the new tuple containing elements from both input tuples\n",
    "print(result)  # Output: (1, 2, 3, 4, 5, 6)\n"
   ]
  },
  {
   "cell_type": "code",
   "execution_count": 47,
   "id": "2432907a-fc9b-4380-bd40-1c7896ea0963",
   "metadata": {},
   "outputs": [],
   "source": [
    "# Ques 24 -: Develop a code that prompts the user to input two sets of strings. Then print the elements that are present in the first set but not in the second set."
   ]
  },
  {
   "cell_type": "code",
   "execution_count": 48,
   "id": "7ea3d46c-e897-4d49-b971-73ac7ea8bc4c",
   "metadata": {},
   "outputs": [
    {
     "name": "stdin",
     "output_type": "stream",
     "text": [
      "Enter the first set of strings (separated by commas):  1,2,3,4\n",
      "Enter the second set of strings (separated by commas):  5,6,7,8\n"
     ]
    },
    {
     "name": "stdout",
     "output_type": "stream",
     "text": [
      "Elements present in the first set but not in the second set: {'4', '2', '3', '1'}\n"
     ]
    }
   ],
   "source": [
    "# Ans -:\n",
    "\n",
    "# Prompt user to enter two sets of strings\n",
    "set1_input = input(\"Enter the first set of strings (separated by commas): \")\n",
    "set2_input = input(\"Enter the second set of strings (separated by commas): \")\n",
    "\n",
    "# Convert the input strings into sets\n",
    "set1 = set(item.strip() for item in set1_input.split(','))\n",
    "set2 = set(item.strip() for item in set2_input.split(','))\n",
    "\n",
    "# Find elements that are in set1 but not in set2\n",
    "difference = set1 - set2\n",
    "\n",
    "# Print the result\n",
    "print(\"Elements present in the first set but not in the second set:\", difference)\n"
   ]
  },
  {
   "cell_type": "code",
   "execution_count": 49,
   "id": "6fd4f87d-f0cf-4d0b-90b3-548dca7c1430",
   "metadata": {},
   "outputs": [],
   "source": [
    "# Ques 25 -: Create a code that takes a tuple and two integers as input. The function should return a new tuple containing elements from the original tuple within the specified range of indices."
   ]
  },
  {
   "cell_type": "code",
   "execution_count": 50,
   "id": "bbaf11aa-7a80-44ff-8163-2cd53a0c1395",
   "metadata": {},
   "outputs": [
    {
     "name": "stdin",
     "output_type": "stream",
     "text": [
      "Enter the starting index:  5\n",
      "Enter the ending index:  2\n"
     ]
    },
    {
     "name": "stdout",
     "output_type": "stream",
     "text": [
      "New tuple containing elements from the specified range: ()\n"
     ]
    }
   ],
   "source": [
    "# Ans -:\n",
    "\n",
    "# Given tuple\n",
    "original_tuple = (10, 20, 30, 40, 50, 60, 70)\n",
    "\n",
    "# Taking input for the range of indices\n",
    "start_index = int(input(\"Enter the starting index: \"))\n",
    "end_index = int(input(\"Enter the ending index: \"))\n",
    "\n",
    "# Creating a new tuple containing elements from the specified range\n",
    "new_tuple = original_tuple[start_index:end_index]\n",
    "\n",
    "# Print the new tuple\n",
    "print(\"New tuple containing elements from the specified range:\", new_tuple)\n"
   ]
  },
  {
   "cell_type": "code",
   "execution_count": 51,
   "id": "8025791c-ed9f-4ba5-8fec-a80f71177a81",
   "metadata": {},
   "outputs": [],
   "source": [
    "# Ques 26 -: Write a Python program that prompts the user to input two sets of characters, calculates the union of these two sets, and then prints the result"
   ]
  },
  {
   "cell_type": "code",
   "execution_count": 52,
   "id": "06da01a0-e3a9-4d3d-9fc8-f77cc7a45ddd",
   "metadata": {},
   "outputs": [
    {
     "name": "stdin",
     "output_type": "stream",
     "text": [
      "Enter the first set of characters (without spaces):  manoj\n",
      "Enter the second set of characters (without spaces):  nailwal\n"
     ]
    },
    {
     "name": "stdout",
     "output_type": "stream",
     "text": [
      "The union of the two sets is: {'a', 'i', 'w', 'n', 'j', 'm', 'o', 'l'}\n"
     ]
    }
   ],
   "source": [
    "# Ans -: \n",
    "\n",
    "# Prompt the user to input two sets of characters\n",
    "set1 = set(input(\"Enter the first set of characters (without spaces): \"))\n",
    "set2 = set(input(\"Enter the second set of characters (without spaces): \"))\n",
    "\n",
    "# Calculate the union of the two sets\n",
    "union_set = set1.union(set2)\n",
    "\n",
    "# Print the union of the two sets\n",
    "print(\"The union of the two sets is:\", union_set)\n"
   ]
  },
  {
   "cell_type": "code",
   "execution_count": 53,
   "id": "a3d25cec-b57e-457e-bd8d-3d5d59c469e4",
   "metadata": {},
   "outputs": [],
   "source": [
    "# Ques 27 -: Develop a code that takes a tuple of integers as input. The function should return the maximum and minimum values from the tuple using tuple unpacking"
   ]
  },
  {
   "cell_type": "code",
   "execution_count": 54,
   "id": "b9e5b083-1c5d-41e1-9bd2-74ba19ecdf46",
   "metadata": {},
   "outputs": [
    {
     "name": "stdin",
     "output_type": "stream",
     "text": [
      "Enter the integers separated by spaces:  1 2 3 4\n"
     ]
    },
    {
     "name": "stdout",
     "output_type": "stream",
     "text": [
      "Maximum value: 4\n",
      "Minimum value: 1\n"
     ]
    }
   ],
   "source": [
    "# Ans -:\n",
    "\n",
    "# Input: Take a tuple of integers from the user\n",
    "tuple_input = tuple(map(int, input(\"Enter the integers separated by spaces: \").split()))\n",
    "\n",
    "# Find the maximum and minimum values\n",
    "max_value, min_value = max(tuple_input), min(tuple_input)\n",
    "\n",
    "# Print the results\n",
    "print(\"Maximum value:\", max_value)\n",
    "print(\"Minimum value:\", min_value)\n"
   ]
  },
  {
   "cell_type": "code",
   "execution_count": 55,
   "id": "06dc3b37-60c6-4b64-8644-f5827354d106",
   "metadata": {},
   "outputs": [],
   "source": [
    "# Ques 28 -: Create a code that defines two sets of integers. Then, print the union, intersection, and difference of these two sets"
   ]
  },
  {
   "cell_type": "code",
   "execution_count": 56,
   "id": "18107089-02e1-41f2-92c6-d7de08a839bf",
   "metadata": {},
   "outputs": [
    {
     "name": "stdout",
     "output_type": "stream",
     "text": [
      "Union of the two sets: {1, 2, 3, 4, 5, 6, 7, 8}\n",
      "Intersection of the two sets: {4, 5}\n",
      "Difference of set1 from set2: {1, 2, 3}\n"
     ]
    }
   ],
   "source": [
    "# Ans -:\n",
    "\n",
    "# Define two sets of integers\n",
    "set1 = {1, 2, 3, 4, 5}\n",
    "set2 = {4, 5, 6, 7, 8}\n",
    "\n",
    "# Calculate the union, intersection, and difference\n",
    "union_set = set1.union(set2)\n",
    "intersection_set = set1.intersection(set2)\n",
    "difference_set = set1.difference(set2)\n",
    "\n",
    "# Print the results\n",
    "print(\"Union of the two sets:\", union_set)\n",
    "print(\"Intersection of the two sets:\", intersection_set)\n",
    "print(\"Difference of set1 from set2:\", difference_set)\n"
   ]
  },
  {
   "cell_type": "code",
   "execution_count": 57,
   "id": "c08866e4-42ac-42fa-a84c-9b2ffde36691",
   "metadata": {},
   "outputs": [],
   "source": [
    "# Ques 29 -: Write a code that takes a tuple and an element as input. The code should return the count of occurrences of the given element in the tuple"
   ]
  },
  {
   "cell_type": "code",
   "execution_count": 58,
   "id": "1ab5ac64-cc20-403a-9ab1-dc80912d641e",
   "metadata": {},
   "outputs": [
    {
     "name": "stdin",
     "output_type": "stream",
     "text": [
      "Enter the elements of the tuple separated by spaces:  1 2 3 4 5\n",
      "Enter the element to count:  3\n"
     ]
    },
    {
     "name": "stdout",
     "output_type": "stream",
     "text": [
      "The element '3' occurs 1 time(s) in the tuple.\n"
     ]
    }
   ],
   "source": [
    "# Ans -:\n",
    "\n",
    "# Input: Take a tuple from the user\n",
    "tuple_input = tuple(input(\"Enter the elements of the tuple separated by spaces: \").split())\n",
    "\n",
    "# Input: Take the element to count from the user\n",
    "element = input(\"Enter the element to count: \")\n",
    "\n",
    "# Count occurrences of the element in the tuple\n",
    "count = tuple_input.count(element)\n",
    "\n",
    "# Print the result\n",
    "print(f\"The element '{element}' occurs {count} time(s) in the tuple.\")\n"
   ]
  },
  {
   "cell_type": "code",
   "execution_count": 59,
   "id": "8e2bae82-dd2f-4515-b3e1-95b4b2bc0679",
   "metadata": {},
   "outputs": [],
   "source": [
    "# Ques 30 -: Develop a code that prompts the user to input two sets of strings. Then, print the symmetric difference of these two sets"
   ]
  },
  {
   "cell_type": "code",
   "execution_count": 60,
   "id": "6795cc02-9f5a-4062-b6dd-6739b082ca0e",
   "metadata": {},
   "outputs": [
    {
     "name": "stdin",
     "output_type": "stream",
     "text": [
      "Enter the first set of strings separated by spaces:  m a n o j \n",
      "Enter the second set of strings separated by spaces:  n a i l w a l\n"
     ]
    },
    {
     "name": "stdout",
     "output_type": "stream",
     "text": [
      "The symmetric difference of the two sets is: {'i', 'm', 'o', 'w', 'j', 'l'}\n"
     ]
    }
   ],
   "source": [
    "# Ans -:\n",
    "\n",
    "# Input: Take two sets of strings from the user\n",
    "set1 = set(input(\"Enter the first set of strings separated by spaces: \").split())\n",
    "set2 = set(input(\"Enter the second set of strings separated by spaces: \").split())\n",
    "\n",
    "# Calculate the symmetric difference\n",
    "symmetric_difference = set1.symmetric_difference(set2)\n",
    "\n",
    "# Print the result\n",
    "print(\"The symmetric difference of the two sets is:\", symmetric_difference)\n"
   ]
  },
  {
   "cell_type": "code",
   "execution_count": 61,
   "id": "1a9419d0-3ee9-4920-888c-eac27b122780",
   "metadata": {},
   "outputs": [],
   "source": [
    "# Ques 30 -: Write a code that takes a list of words as input and returns a dictionary where the keys are unique words and the values are the frequencies of those words in the input list"
   ]
  },
  {
   "cell_type": "code",
   "execution_count": 62,
   "id": "44228565-be43-4828-a6e2-98add066e771",
   "metadata": {},
   "outputs": [
    {
     "name": "stdin",
     "output_type": "stream",
     "text": [
      "Enter a list of words separated by spaces:  my name is manoj nailwal\n"
     ]
    },
    {
     "name": "stdout",
     "output_type": "stream",
     "text": [
      "Word frequencies: {'my': 1, 'name': 1, 'is': 1, 'manoj': 1, 'nailwal': 1}\n"
     ]
    }
   ],
   "source": [
    "# Ans -:\n",
    "\n",
    "# Input: Take a list of words from the user\n",
    "words_input = input(\"Enter a list of words separated by spaces: \").split()\n",
    "\n",
    "# Create a dictionary to store word frequencies\n",
    "word_frequencies = {}\n",
    "\n",
    "# Count the frequency of each word\n",
    "for word in words_input:\n",
    "    if word in word_frequencies:\n",
    "        word_frequencies[word] += 1\n",
    "    else:\n",
    "        word_frequencies[word] = 1\n",
    "\n",
    "# Print the result\n",
    "print(\"Word frequencies:\", word_frequencies)\n",
    "\n",
    "\n"
   ]
  },
  {
   "cell_type": "code",
   "execution_count": 63,
   "id": "e2ee8fae-5015-4822-b943-20e5bccea8b0",
   "metadata": {},
   "outputs": [],
   "source": [
    "# Ques 32 -: Write a code that takes two dictionaries as input and merges them into a single dictionary. If there are common keys, the values should be added together"
   ]
  },
  {
   "cell_type": "code",
   "execution_count": 64,
   "id": "fd3372d3-45f5-4ff6-a9a9-97103008e552",
   "metadata": {},
   "outputs": [
    {
     "name": "stdin",
     "output_type": "stream",
     "text": [
      "Enter the first dictionary (e.g., {'a': 1, 'b': 2}):  {'a': 1, 'b': 2}\n",
      "Enter the second dictionary (e.g., {'b': 3, 'c': 4}):  {'d': 3, 'c': 4}\n"
     ]
    },
    {
     "name": "stdout",
     "output_type": "stream",
     "text": [
      "Merged dictionary: {'a': 1, 'b': 2, 'd': 3, 'c': 4}\n"
     ]
    }
   ],
   "source": [
    "# Ans -:\n",
    "\n",
    "# Input: Take two dictionaries from the user\n",
    "dict1 = eval(input(\"Enter the first dictionary (e.g., {'a': 1, 'b': 2}): \"))\n",
    "dict2 = eval(input(\"Enter the second dictionary (e.g., {'b': 3, 'c': 4}): \"))\n",
    "\n",
    "# Merge the dictionaries\n",
    "merged_dict = dict1.copy()  # Create a copy of the first dictionary\n",
    "\n",
    "for key, value in dict2.items():\n",
    "    if key in merged_dict:\n",
    "        merged_dict[key] += value  # Add values for common keys\n",
    "    else:\n",
    "        merged_dict[key] = value  # Add new key-value pairs\n",
    "\n",
    "# Print the result\n",
    "print(\"Merged dictionary:\", merged_dict)\n",
    "\n"
   ]
  },
  {
   "cell_type": "code",
   "execution_count": 65,
   "id": "814f0cff-eef9-459c-95a9-e46e1b06f4d0",
   "metadata": {},
   "outputs": [],
   "source": [
    "# Ques 33 -: Write a code to access a value in a nested dictionary. The code should take the dictionary and a list of keys as input and return the corresponding value. If any of the keys do not exist in the dictionary, the code should return None."
   ]
  },
  {
   "cell_type": "code",
   "execution_count": 66,
   "id": "4ce9fb08-e144-4151-bab2-375dc1318412",
   "metadata": {},
   "outputs": [
    {
     "name": "stdout",
     "output_type": "stream",
     "text": [
      "The value is: 42\n"
     ]
    }
   ],
   "source": [
    "# Ans -:\n",
    "\n",
    "# Define the nested dictionary\n",
    "nested_dict = {\n",
    "    'a': {\n",
    "        'b': {\n",
    "            'c': 42\n",
    "        }\n",
    "    },\n",
    "    'x': {\n",
    "        'y': 99\n",
    "    }\n",
    "}\n",
    "\n",
    "# List of keys to access\n",
    "keys = ['a', 'b', 'c']  # Change this list to test with different keys\n",
    "\n",
    "# Start with the nested dictionary\n",
    "current_value = nested_dict\n",
    "\n",
    "# Flag to check if all keys exist\n",
    "key_exists = True\n",
    "\n",
    "# Iterate through each key in the list\n",
    "for key in keys:\n",
    "    if key in current_value:\n",
    "        current_value = current_value[key]  # Update to the next level\n",
    "    else:\n",
    "        key_exists = False  # Set flag to False if key is missing\n",
    "        break  # Exit the loop since the key is not found\n",
    "\n",
    "# Check if all keys were found and print the result\n",
    "if key_exists:\n",
    "    print(\"The value is:\", current_value)\n",
    "else:\n",
    "    print(\"One or more keys do not exist.\")\n"
   ]
  },
  {
   "cell_type": "code",
   "execution_count": 67,
   "id": "dafd7cef-3943-45fd-8178-10f9226e9764",
   "metadata": {},
   "outputs": [],
   "source": [
    "# Ques 34 -: Write a code that takes a dictionary as input and returns a sorted version of it based on the values. You can choose whether to sort in ascending or descending order"
   ]
  },
  {
   "cell_type": "code",
   "execution_count": 68,
   "id": "dd691bdc-5bf0-4746-8ba8-cf9ef644e2e1",
   "metadata": {},
   "outputs": [
    {
     "name": "stdin",
     "output_type": "stream",
     "text": [
      "Do you want to sort in ascending (a) or descending (d) order? (a/d):  a\n"
     ]
    },
    {
     "name": "stdout",
     "output_type": "stream",
     "text": [
      "Sorted dictionary: {'grape': 2, 'banana': 3, 'apple': 5, 'orange': 8}\n"
     ]
    }
   ],
   "source": [
    "# Ans -:\n",
    "\n",
    "# Define a dictionary\n",
    "my_dict = {\n",
    "    'apple': 5,\n",
    "    'banana': 3,\n",
    "    'orange': 8,\n",
    "    'grape': 2\n",
    "}\n",
    "\n",
    "# Choose sorting order\n",
    "sort_order = input(\"Do you want to sort in ascending (a) or descending (d) order? (a/d): \")\n",
    "\n",
    "# Determine if ascending or descending\n",
    "ascending = True if sort_order.lower() == 'a' else False\n",
    "\n",
    "# Sort the dictionary based on values\n",
    "sorted_dict = dict(sorted(my_dict.items(), key=lambda item: item[1], reverse=not ascending))\n",
    "\n",
    "# Print the sorted dictionary\n",
    "print(\"Sorted dictionary:\", sorted_dict)\n"
   ]
  },
  {
   "cell_type": "code",
   "execution_count": 69,
   "id": "354dc2bc-97c0-469f-8612-b9bfa918e5ea",
   "metadata": {},
   "outputs": [],
   "source": [
    "# Ques 35 -: Write a code that inverts a dictionary, swapping keys and values. Ensure that the inverted dictionary correctly handles cases where multiple keys have the same value by storing the keys as a list in the inverted dictionary.\n"
   ]
  },
  {
   "cell_type": "code",
   "execution_count": 70,
   "id": "e62ae8d4-89f7-4016-b6f4-2f649d8fdde0",
   "metadata": {},
   "outputs": [
    {
     "name": "stdout",
     "output_type": "stream",
     "text": [
      "Inverted dictionary: {1: ['a', 'c'], 2: ['b'], 3: ['d']}\n"
     ]
    }
   ],
   "source": [
    "# Ans -:\n",
    "\n",
    "# Define the original dictionary\n",
    "original_dict = {\n",
    "    'a': 1,\n",
    "    'b': 2,\n",
    "    'c': 1,\n",
    "    'd': 3\n",
    "}\n",
    "\n",
    "# Create an empty dictionary to store the inverted dictionary\n",
    "inverted_dict = {}\n",
    "\n",
    "# Iterate through the original dictionary\n",
    "for key, value in original_dict.items():\n",
    "    # If the value is already a key in the inverted dictionary\n",
    "    if value in inverted_dict:\n",
    "        # Append the current key to the list of keys\n",
    "        inverted_dict[value].append(key)\n",
    "    else:\n",
    "        # Create a new entry with the value as the key and the current key as a list\n",
    "        inverted_dict[value] = [key]\n",
    "\n",
    "# Print the inverted dictionary\n",
    "print(\"Inverted dictionary:\", inverted_dict)\n"
   ]
  },
  {
   "cell_type": "code",
   "execution_count": null,
   "id": "2b4ae50a-7e0b-4aae-8ce7-84b064ca7f39",
   "metadata": {},
   "outputs": [],
   "source": []
  },
  {
   "cell_type": "code",
   "execution_count": null,
   "id": "934eb272-0c53-461c-96ea-a8f14f6ef545",
   "metadata": {},
   "outputs": [],
   "source": []
  }
 ],
 "metadata": {
  "kernelspec": {
   "display_name": "Python 3 (ipykernel)",
   "language": "python",
   "name": "python3"
  },
  "language_info": {
   "codemirror_mode": {
    "name": "ipython",
    "version": 3
   },
   "file_extension": ".py",
   "mimetype": "text/x-python",
   "name": "python",
   "nbconvert_exporter": "python",
   "pygments_lexer": "ipython3",
   "version": "3.12.4"
  }
 },
 "nbformat": 4,
 "nbformat_minor": 5
}
